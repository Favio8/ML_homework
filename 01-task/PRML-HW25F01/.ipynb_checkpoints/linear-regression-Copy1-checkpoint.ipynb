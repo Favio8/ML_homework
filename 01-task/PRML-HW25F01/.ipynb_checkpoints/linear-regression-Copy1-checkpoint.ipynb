{
 "cells": [
  {
   "cell_type": "markdown",
   "id": "8c8111aa",
   "metadata": {},
   "source": [
    "**请填写你的姓名与学号**"
   ]
  },
  {
   "cell_type": "code",
   "execution_count": 1,
   "id": "e19bb988",
   "metadata": {},
   "outputs": [],
   "source": [
    "name=\"张铭扬\"\n",
    "student_id=\"23009200260\""
   ]
  },
  {
   "cell_type": "markdown",
   "id": "375ae438",
   "metadata": {},
   "source": [
    "# 线性回归模型编程练习"
   ]
  },
  {
   "cell_type": "code",
   "execution_count": 2,
   "id": "d6b227f2",
   "metadata": {
    "collapsed": false,
    "jupyter": {
     "outputs_hidden": false
    }
   },
   "outputs": [
    {
     "name": "stderr",
     "output_type": "stream",
     "text": [
      "'ls' 不是内部或外部命令，也不是可运行的程序\n",
      "或批处理文件。\n"
     ]
    }
   ],
   "source": [
    "# 查看个人持久化工作区文件\n",
    "!ls"
   ]
  },
  {
   "cell_type": "markdown",
   "id": "aedeb9d1",
   "metadata": {
    "collapsed": false,
    "jupyter": {
     "outputs_hidden": false
    }
   },
   "source": [
    "## 线性回归模型\n",
    "\n",
    "回归问题是非常常见的一类问题，目的是寻找变量之间的关系。比如要从数据中寻找房屋面积与价格的关系，年龄和身高的关系，气体压力和体积的关系等等。而机器学习要做的正是要让机器自己来学习这些关系，并为对未知的情况做出预测。\n",
    "\n",
    "对于线性回归，假设变量之间的关系是线性的，即：\n",
    "$$h_{\\theta}(x)= \\theta_{0} + \\theta_{1} x$$\n",
    "其中 $\\pmb{\\theta}$ 就是学习算法需要学习的参数，在线性回归的问题上，就是$\\theta_{1}$和$\\theta_{0}$，而 $x$ 是我们对于问题所选取的特征，也即输入。$h$表示算法得到的映射。"
   ]
  },
  {
   "cell_type": "markdown",
   "id": "b4a365f6",
   "metadata": {
    "collapsed": false,
    "jupyter": {
     "outputs_hidden": false
    }
   },
   "source": [
    "## 代价函数的表示\n",
    "\n",
    "为了找到这个算法中合适的参数，我们需要制定一个标准。一般而言算法拟合出来的结果与真实的结果误差越小越好，试想一下如果算法拟合出来的结果与真实值的误差为零，那么就是说算法完美地拟合了数据。所以可以根据“真实值与算法拟合值的误差”来表示算法的“合适程度”。在线性回归中，我们经常使用最小二乘的思路构建代价函数：\n",
    "$$J(\\pmb{\\theta}) = \\frac{1}{2n}\\sum_{i=1}^{n} \\Big( h_{\\theta}(x^{(i)}) - y^{(i)} \\Big)^2$$\n",
    "这里 $h_{\\theta}(x^{(i)})$ 由假设模型得出。对线性回归任务，代价函数可以展开为：\n",
    "$$J(\\pmb{\\theta}) = \\frac{1}{2n}\\sum_{i=1}^{n} \\Big(\\theta_0 + \\theta_1x^{(i)}-y_{i}) \\Big)^2$$\n",
    "误差函数的值越小，则代表算法拟合结果与真实结果越接近。"
   ]
  },
  {
   "cell_type": "markdown",
   "id": "2e93cbf8",
   "metadata": {
    "collapsed": false,
    "jupyter": {
     "outputs_hidden": false
    }
   },
   "source": [
    "## 梯度下降\n",
    "\n",
    "梯度下降算法沿着误差函数的反向更新$\\theta$的值，知道代价函数收敛到最小值。梯度下降算法更新$\\theta_i$的方法为：\n",
    "$$\\theta_{j} = \\theta_{j} - \\alpha\\frac{\\partial }{\\partial \\theta_{j}}J(\\pmb{\\theta}), \\qquad j=0, 1$$\n",
    "其中 $\\alpha$表示学习率。对于线性回归的的参数，可以根据代价函数求出其参数更新公式：\n",
    "$$\\begin{split}\\frac{\\partial J}{\\partial \\theta_{0} } &= \\frac{1}{n}\\sum_{i=1}^{n}\\Big( \\theta_0 + \\theta_1 x^{(i)}-y^{(i)} \\Big),\\\\\n",
    "\\frac{\\partial J}{\\partial \\theta_{1} } &= \\frac{1}{n}\\sum_{i=1}^{n}\\Big(\\theta_0 + \\theta_1x^{(i)}-y^{(i)}\\Big)x^{(i)}.\\end{split}$$"
   ]
  },
  {
   "cell_type": "markdown",
   "id": "ee0ce2bf",
   "metadata": {
    "collapsed": false,
    "jupyter": {
     "outputs_hidden": false
    }
   },
   "source": [
    "## 代码实现\n",
    "现在让我们开始动手实现，首先让我们回顾一下numpy和matplotlib："
   ]
  },
  {
   "cell_type": "code",
   "execution_count": 3,
   "id": "7272aaab",
   "metadata": {
    "collapsed": false,
    "jupyter": {
     "outputs_hidden": false
    }
   },
   "outputs": [
    {
     "name": "stdout",
     "output_type": "stream",
     "text": [
      "[[1. 0. 0. 0. 0.]\n",
      " [0. 1. 0. 0. 0.]\n",
      " [0. 0. 1. 0. 0.]\n",
      " [0. 0. 0. 1. 0.]\n",
      " [0. 0. 0. 0. 1.]]\n"
     ]
    }
   ],
   "source": [
    "import numpy as np\n",
    "import matplotlib.pyplot as plt\n",
    "%matplotlib inline\n",
    "\n",
    "\n",
    "def warm_up_exercise():\n",
    "    \"\"\"热身练习\"\"\"\n",
    "    A = None\n",
    "    # ====================== 你的代码 ==========================\n",
    "    # 在下面加入你的代码，使程序返回一个 5x5 的单位矩阵\n",
    "    # =========================================================\n",
    "    A = np.eye(5) # 直接调用numpy中的eye()方法，来进行快速构造\n",
    "    return A\n",
    "\n",
    "# 当你的实现正确时，下面会输出一个单位矩阵：\n",
    "print(warm_up_exercise())"
   ]
  },
  {
   "cell_type": "markdown",
   "id": "96d7f38e",
   "metadata": {
    "collapsed": false,
    "jupyter": {
     "outputs_hidden": false
    }
   },
   "source": [
    "你需要实现绘制数据集中图像的函数，当你的实现|正确时，你应该会得到如下的图像：\n",
    "![散点图](./scatter.png)"
   ]
  },
  {
   "cell_type": "code",
   "execution_count": 4,
   "id": "108a070c",
   "metadata": {
    "collapsed": false,
    "jupyter": {
     "outputs_hidden": false
    }
   },
   "outputs": [
    {
     "name": "stdout",
     "output_type": "stream",
     "text": [
      "Plotting Data ...\n",
      "\n"
     ]
    },
    {
     "data": {
      "image/png": "[encoded data removed]",
      "text/plain": [
       "<Figure size 640x480 with 1 Axes>"
      ]
     },
     "metadata": {},
     "output_type": "display_data"
    }
   ],
   "source": [
    "def plot_data(x, y):\n",
    "    \"\"\"绘制给定数据x与y的图像\"\"\"\n",
    "    plt.figure()\n",
    "    # ====================== 你的代码 ==========================\n",
    "    # 绘制x与y的图像\n",
    "    # 使用 matplotlib.pyplt 的命令 plot, xlabel, ylabel 等。\n",
    "    # 提示：可以使用 'rx' 选项使数据点显示为红色的 \"x\"，\n",
    "    #       使用 \"markersize=8, markeredgewidth=2\" 使标记更大\n",
    "\n",
    "    # 给制数据\n",
    "\n",
    "    # 设置y轴标题为 'Profit in $10,000s'\n",
    "    \n",
    "    # 设置x轴标题为 'Population of City in 10,000s'\n",
    "    plt.plot(x,y,'rx',markersize=8,markeredgewidth=2)\n",
    "    plt.ylabel('Profit in $10,000s')\n",
    "    plt.xlabel('Population of City in 10,000s')\n",
    "    plt.show()\n",
    "    # =========================================================\n",
    "# 让我们测试一下你的实现是否正确\n",
    "# 从txt中加载数据\n",
    "print('Plotting Data ...\\n')\n",
    "data = np.loadtxt('./PRML_LR_data.txt', delimiter=',')\n",
    "x, y = data[:, 0], data[:, 1]\n",
    "\n",
    "# 绘图\n",
    "plot_data(x, y)\n",
    "plt.show()"
   ]
  },
  {
   "cell_type": "markdown",
   "id": "4290fa56",
   "metadata": {
    "collapsed": false,
    "jupyter": {
     "outputs_hidden": false
    }
   },
   "source": [
    "现在运用所学的知识，对上述数据利用线性回归进行拟合。首先我们对要学习的参数和数据做一个准备:"
   ]
  },
  {
   "cell_type": "code",
   "execution_count": 5,
   "id": "5657ec60",
   "metadata": {
    "collapsed": false,
    "jupyter": {
     "outputs_hidden": false
    }
   },
   "outputs": [
    {
     "name": "stdout",
     "output_type": "stream",
     "text": [
      "[[0.]\n",
      " [0.]]\n",
      "(97,)\n",
      "(97, 2)\n",
      "(97, 1)\n"
     ]
    }
   ],
   "source": [
    "# Add a column of ones to x\n",
    "m = len(y)\n",
    "X = np.ones((m, 2))\n",
    "X[:, 1] = data[:, 0]\n",
    "\n",
    "# initialize fitting parameters\n",
    "theta = np.zeros((2, 1))\n",
    "print(theta)\n",
    "print(y.shape)\n",
    "print(X.shape)\n",
    "print((X @ theta).shape)\n",
    "# Some gradient descent settings\n",
    "iterations = 1500\n",
    "alpha = 0.01"
   ]
  },
  {
   "cell_type": "markdown",
   "id": "c4c3241b",
   "metadata": {
    "collapsed": false,
    "jupyter": {
     "outputs_hidden": false
    }
   },
   "source": [
    "计算初始误差函数的值，你需要实现误差函数的计算："
   ]
  },
  {
   "cell_type": "code",
   "execution_count": 6,
   "id": "e9967ebb",
   "metadata": {
    "collapsed": false,
    "jupyter": {
     "outputs_hidden": false
    }
   },
   "outputs": [
    {
     "name": "stdout",
     "output_type": "stream",
     "text": [
      "32.07273387745567\n"
     ]
    }
   ],
   "source": [
    "def compute_cost(X, y, theta):\n",
    "    \"\"\"计算线性回归的代价。\"\"\"\n",
    "    m = len(y)\n",
    "    J = 0.0\n",
    "    # ====================== 你的代码 ==========================\n",
    "    # 计算给定 theta 参数下线性回归的代价\n",
    "    # 请将正确的代价赋值给 J\n",
    "    predictions = X @ theta\n",
    "    errors = predictions - y\n",
    "    J = (1 / (2 * m)) * np.sum(errors ** 2) / m\n",
    "    # =========================================================\n",
    "    return J\n",
    "\n",
    "# compute and display initial cost\n",
    "# Expected value 32.07\n",
    "J0 = compute_cost(X, y, theta)\n",
    "print(J0)"
   ]
  },
  {
   "cell_type": "markdown",
   "id": "86f9662f",
   "metadata": {
    "collapsed": false,
    "jupyter": {
     "outputs_hidden": false
    }
   },
   "source": [
    "现在你验证了代价计算的正确性，接下来就需要实现最核心的部分：梯度下降。在实现这一部分之前，确定你理解了上述各种变量及其表示。你需要完成梯度下降的核心代码部分："
   ]
  },
  {
   "cell_type": "code",
   "execution_count": 7,
   "id": "ff259dbc",
   "metadata": {
    "collapsed": false,
    "jupyter": {
     "outputs_hidden": false
    }
   },
   "outputs": [
    {
     "name": "stdout",
     "output_type": "stream",
     "text": [
      "[[ 1.64289233e+01  8.52656639e+00  1.27587512e+01  1.10702852e+01\n",
      "   6.37218467e+00  1.11001696e+01  4.06081670e+00  1.12066326e+01\n",
      "   6.16243386e+00  3.56426949e+00  3.03718420e+00  1.44799032e+01\n",
      "   2.94650387e+00  6.74807380e+00  6.68830509e-01  3.28064830e+00\n",
      "   4.95407870e+00  5.23695279e-01  3.41036507e+00  5.03299208e+00\n",
      "   2.93109475e+00  2.03278976e+01  3.98115622e+00  4.84453387e+00\n",
      "   2.87870374e+00  2.11413123e+01  1.26083955e+01  6.58081481e+00\n",
      "   1.37206538e+01  2.25505464e+01 -1.13934098e+00  5.60014107e+00\n",
      "   1.13317733e+01  1.72722224e+00  6.11004285e+00  4.26066831e+00\n",
      "   3.84424853e+00  3.16848858e+00  9.44812514e+00  5.13394516e+00\n",
      "   5.19772957e-01  3.65289527e+00  5.02934992e+00  2.27924229e+00\n",
      "   6.28673409e+00  9.77124971e-01  4.79429080e+00  1.72208587e+00\n",
      "   7.47510409e+00  9.50602608e-01  6.30410437e+00  1.71797677e+00\n",
      "   4.00497031e+00  4.66765585e+00  1.32920001e+00 -1.32714546e+00\n",
      "   2.31192830e+00  4.29979814e+00  3.70043007e+00  5.05615245e+00\n",
      "   4.82763053e+00 -6.93681217e-01  1.67436429e+01  1.12570624e+01\n",
      "   1.59264927e+01  4.56222012e+00  5.36442823e+00  7.26133757e+00\n",
      "   9.50042276e-01  1.96041359e+01  6.23826541e+00  3.75973184e+00\n",
      "   1.19387992e+00  3.12020667e+00 -2.50346833e+00  2.77158701e-01\n",
      "   3.62768035e+00  5.32445791e+00  6.30615892e+00  1.92156393e+00\n",
      "   4.47826376e-01  1.90708870e-01  6.33744411e-01  7.04476940e+00\n",
      "   4.99031348e+00  3.96107767e+00  6.34865074e+00  8.65665672e-01\n",
      "   1.41950679e-01  2.63486609e+00  1.72311315e+00  4.01188107e+00\n",
      "   6.72668781e+00  1.85553819e+00  1.34983889e-01  8.45643155e+00\n",
      "   5.76254386e-01]\n",
      " [ 1.16843665e-01  6.06415436e-02  9.07411413e-02  7.87326518e-02\n",
      "   4.53194283e-02  7.89451914e-02  2.88808157e-02  7.97023639e-02\n",
      "   4.38276657e-02  2.53493368e-02  2.16006690e-02  1.02982096e-01\n",
      "   2.09557440e-02  4.79927784e-02  4.75676992e-03  2.33322028e-02\n",
      "   3.52337583e-02  3.72455788e-03  2.42547577e-02  3.57949958e-02\n",
      "   2.08461533e-02  1.44573446e-01  2.83142648e-02  3.44546677e-02\n",
      "   2.04735447e-02  1.50358510e-01  8.96718013e-02  4.68032206e-02\n",
      "   9.75822609e-02  1.60381082e-01 -8.10307366e-03  3.98285996e-02\n",
      "   8.05923736e-02  1.22841268e-02  4.34550572e-02  3.03021746e-02\n",
      "   2.73405676e-02  2.25345150e-02  6.71957346e-02  3.65129813e-02\n",
      "   3.69666206e-03  2.59796497e-02  3.57690925e-02  1.62101324e-02\n",
      "   4.47116978e-02  6.94938195e-03  3.40973355e-02  1.22475966e-02\n",
      "   5.31634693e-02  6.76075302e-03  4.48352364e-02  1.22183724e-02\n",
      "   2.84836323e-02  3.31966988e-02  9.45336455e-03 -9.43875245e-03\n",
      "   1.64425977e-02  3.05804687e-02  2.63177206e-02  3.59597140e-02\n",
      "   3.43344500e-02 -4.93350991e-03  1.19081974e-01  8.00610245e-02\n",
      "   1.13270343e-01  3.24468323e-02  3.81521932e-02  5.16431467e-02\n",
      "   6.75676790e-03  1.39426002e-01  4.43669851e-02  2.67394789e-02\n",
      "   8.49095850e-03  2.21911307e-02 -1.78048439e-02  1.97117230e-03\n",
      "   2.58003194e-02  3.78679215e-02  4.48498485e-02  1.36662987e-02\n",
      "   3.18497288e-03  1.35633498e-03  4.50723510e-03  5.01028985e-02\n",
      "   3.54914626e-02  2.81714647e-02  4.51520533e-02  6.15667552e-03\n",
      "   1.00956328e-03  1.87393541e-02  1.22549026e-02  2.85327821e-02\n",
      "   4.78406797e-02  1.31967189e-02  9.60014973e-04  6.01427396e-02\n",
      "   4.09836197e-03]]\n",
      "[6.53566028 5.70880476 5.66285745 ... 0.02571082 0.02561821 0.02552594]\n"
     ]
    }
   ],
   "source": [
    "def gradient_descent(X, y, theta, alpha, num_iters):\n",
    "    \"\"\"执行梯度下降算法来学习参数 theta。\"\"\"\n",
    "    m = len(y)\n",
    "    J_history = np.zeros((num_iters,))\n",
    "\n",
    "    for iter in range(num_iters):\n",
    "        # ====================== 你的代码 ==========================\n",
    "        # 计算给定 theta 参数下线性回归的梯度，实现梯度下降算法\n",
    "        predictions = X @ theta\n",
    "        errors = predictions - y\n",
    "        gradient = (1 / m) * (X.T @ errors)\n",
    "        theta = theta - alpha * gradient\n",
    "        # =========================================================\n",
    "        # 将各次迭代后的代价进行记录\n",
    "        J_history[iter] = compute_cost(X, y, theta)\n",
    "\n",
    "    return theta, J_history\n",
    "\n",
    "# run gradient descent\n",
    "# Expected value: theta = [-3.630291, 1.166362]\n",
    "theta, J_history = gradient_descent(X, y, theta,\n",
    "                                    alpha, iterations)\n",
    "print(theta)\n",
    "print(J_history)"
   ]
  },
  {
   "cell_type": "markdown",
   "id": "d99771d7",
   "metadata": {
    "collapsed": false,
    "jupyter": {
     "outputs_hidden": false
    }
   },
   "source": [
    "为了验证梯度下降方法实现的正确性，你需要把学习的到的直线绘制出来，确定你的实现是否正确。前面你已经绘制了数据集中的点，现在你需要在点的基础上绘制一条直线，如果你的实现正确，那么得到的图像如下：\n",
    "\n",
    "![拟合结果](./fit.png)\n",
    "\n",
    "现在你已经正确实现了线性回归，你可能会对误差函数的优化过程比较好奇。为了更好地理解这个过程，你可以将损失函数的图像绘制出来。为此你需要将需要优化的参数的各个取值时误差函数的取值在图像上绘制出来，以下代码需要你进行填写。"
   ]
  },
  {
   "cell_type": "code",
   "execution_count": 8,
   "id": "dccd5eb9",
   "metadata": {
    "collapsed": false,
    "jupyter": {
     "outputs_hidden": false
    }
   },
   "outputs": [
    {
     "data": {
      "image/png": "[encoded data removed]",
      "text/plain": [
       "<Figure size 640x480 with 1 Axes>"
      ]
     },
     "metadata": {},
     "output_type": "display_data"
    }
   ],
   "source": [
    "def plot_visualize_cost(X, y, theta_best):\n",
    "    \"\"\"可视化代价函数\"\"\"\n",
    "\n",
    "    # 生成参数网格\n",
    "    theta0_vals = np.linspace(-10, 10, 101)\n",
    "    theta1_vals = np.linspace(-1, 4, 101)\n",
    "    t = np.zeros((2, 1))\n",
    "    J_vals = np.zeros((101, 101))\n",
    "    for i in range(101):\n",
    "        for j in range(101):\n",
    "            # =============== 你的代码 ===================\n",
    "            # 加入代码，计算 J_vals 的值\n",
    "            t = np.array([[theta0_vals[i]],\n",
    "                         [theta1_vals[j]]])\n",
    "            J_vals[j, i] = compute_cost(X, y, t) \n",
    "            # ===========================================\n",
    "\n",
    "    plt.figure()\n",
    "    plt.contour(theta0_vals, theta1_vals, J_vals,\n",
    "                levels=np.logspace(-2, 3, 21))\n",
    "    plt.plot(theta_best[0], theta_best[1], 'rx',\n",
    "             markersize=8, markeredgewidth=2)\n",
    "    plt.xlabel(r'$\\theta_0$')\n",
    "    plt.ylabel(r'$\\theta_1$')\n",
    "    plt.title(r'$J(\\theta)$')\n",
    "  \n",
    "\n",
    "plot_visualize_cost(X, y, theta)\n",
    "plt.show()"
   ]
  },
  {
   "cell_type": "markdown",
   "id": "a035acab",
   "metadata": {
    "collapsed": false,
    "jupyter": {
     "outputs_hidden": false
    }
   },
   "source": [
    "在梯度更新时，我们保留了代价的历史信息。在参数的学习过程中，代价函数的变化过程你也可以作一个图来查看。观察最后得到的$J(\\theta)$的图像以及代价的变化过程，可以加深你的理解。在梯度下降的迭代中，我们设置终止条件为完成了固定的迭代次数，但是在迭代次数完成时，由于学习率等参数的设置，可能得到的参数并不是使得代价最低的值。你可以通过观察代价函数的变化过程，想办法调整学习率等参数或者改进程序，使得参数的取值为搜索到的最优结果。改进`plot_visualize_cost`绘制模型迭代优化历史。\n"
   ]
  },
  {
   "cell_type": "code",
   "execution_count": 9,
   "id": "478d7b36",
   "metadata": {
    "collapsed": false,
    "jupyter": {
     "outputs_hidden": false
    },
    "lines_to_next_cell": 2
   },
   "outputs": [
    {
     "ename": "TypeError",
     "evalue": "plot_visual_history() missing 3 required positional arguments: 'X', 'y', and 'theta_history'",
     "output_type": "error",
     "traceback": [
      "\u001b[31m---------------------------------------------------------------------------\u001b[39m",
      "\u001b[31mTypeError\u001b[39m                                 Traceback (most recent call last)",
      "\u001b[36mCell\u001b[39m\u001b[36m \u001b[39m\u001b[32mIn[9]\u001b[39m\u001b[32m, line 13\u001b[39m\n\u001b[32m      9\u001b[39m     plt.ylabel(\u001b[33mr\u001b[39m\u001b[33m'\u001b[39m\u001b[33m$\u001b[39m\u001b[33m\\\u001b[39m\u001b[33mtheta_1$\u001b[39m\u001b[33m'\u001b[39m)\n\u001b[32m     10\u001b[39m     plt.title(\u001b[33mr\u001b[39m\u001b[33m'\u001b[39m\u001b[33m$J(\u001b[39m\u001b[33m\\\u001b[39m\u001b[33mtheta)$\u001b[39m\u001b[33m'\u001b[39m)\n\u001b[32m---> \u001b[39m\u001b[32m13\u001b[39m \u001b[43mplot_visual_history\u001b[49m\u001b[43m(\u001b[49m\u001b[43m)\u001b[49m\n\u001b[32m     14\u001b[39m plt.show()\n",
      "\u001b[31mTypeError\u001b[39m: plot_visual_history() missing 3 required positional arguments: 'X', 'y', and 'theta_history'"
     ]
    }
   ],
   "source": [
    "def plot_visual_history(X, y, theta_history):\n",
    "    plt.figure()\n",
    "    # =============== 你的代码 ===================\n",
    "    theta_history = np.array(theta_history)  # 转换为数组，方便切片\n",
    "    plt.plot(theta_history[:, 0], theta_history[:, 1], 'r.-', label='路径轨迹')\n",
    "    plt.plot(theta_history[-1, 0], theta_history[-1, 1], 'rx', markersize=8, markeredgewidth=2, label='最终θ')\n",
    "    # ===========================================\n",
    "    plt.xlabel(r'$\\theta_0$')\n",
    "    plt.ylabel(r'$\\theta_1$')\n",
    "    plt.title(r'$J(\\theta)$')\n",
    "    \n",
    "\n",
    "plot_visual_history()\n",
    "plt.show()"
   ]
  },
  {
   "cell_type": "markdown",
   "id": "b865f338",
   "metadata": {
    "collapsed": false,
    "jupyter": {
     "outputs_hidden": false
    }
   },
   "source": [
    "### 进阶\n",
    "在实现中，你可能采取了像上面公式中给出的结果一样逐个样本计算代价函数，或者在梯度下降的更新时也采用了逐个样本计算的方式。但事实上，你可以采用numpy的矩阵函数一次性计算所有样本的代价函数。可以采用矩阵乘法(np.matmul())求和等方式（np.sum（））。利用你学到的线性代数知识，将其实现更改一下吧。\n",
    "\n",
    "在梯度更新时，我们保留了代价的历史信息。在参数的学习过程中，代价函数的变化过程你也可以作一个图来查看。观察最后得到的$J(\\theta)$的图像以及代价的变化过程，可以加深你的理解。在梯度下降的迭代中，我们设置终止条件为完成了固定的迭代次数，但是在迭代次数完成时，由于学习率等参数的设置，可能得到的参数并不是使得代价最低的值。你可以通过观察代价函数的变化过程，想办法调整学习率等参数或者改进程序，使得参数的取值为搜索到的最优结果。"
   ]
  }
 ],
 "metadata": {
  "jupytext": {
   "formats": "ipynb"
  },
  "kernelspec": {
   "display_name": "Python 3 (ipykernel)",
   "language": "python",
   "name": "python3"
  },
  "language_info": {
   "codemirror_mode": {
    "name": "ipython",
    "version": 3
   },
   "file_extension": ".py",
   "mimetype": "text/x-python",
   "name": "python",
   "nbconvert_exporter": "python",
   "pygments_lexer": "ipython3",
   "version": "3.12.11"
  }
 },
 "nbformat": 4,
 "nbformat_minor": 5
}
